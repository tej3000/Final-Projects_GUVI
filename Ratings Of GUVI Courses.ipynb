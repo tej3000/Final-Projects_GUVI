{
 "cells": [
  {
   "cell_type": "code",
   "execution_count": 2,
   "id": "9ad3c668",
   "metadata": {},
   "outputs": [],
   "source": [
    "import pandas as pd                # Importing Necessary Modules\n",
    "\n",
    "ra_df = pd.read_csv(r\"E:\\GUVI- Data Science\\Final Porj\\3.1-data-sheet-guvi-courses.csv\")"
   ]
  },
  {
   "cell_type": "code",
   "execution_count": 3,
   "id": "22608920",
   "metadata": {},
   "outputs": [
    {
     "data": {
      "text/html": [
       "<div>\n",
       "<style scoped>\n",
       "    .dataframe tbody tr th:only-of-type {\n",
       "        vertical-align: middle;\n",
       "    }\n",
       "\n",
       "    .dataframe tbody tr th {\n",
       "        vertical-align: top;\n",
       "    }\n",
       "\n",
       "    .dataframe thead th {\n",
       "        text-align: right;\n",
       "    }\n",
       "</style>\n",
       "<table border=\"1\" class=\"dataframe\">\n",
       "  <thead>\n",
       "    <tr style=\"text-align: right;\">\n",
       "      <th></th>\n",
       "      <th>course_id</th>\n",
       "      <th>course_title</th>\n",
       "      <th>url</th>\n",
       "      <th>price</th>\n",
       "      <th>num_subscribers</th>\n",
       "      <th>num_reviews</th>\n",
       "      <th>num_lectures</th>\n",
       "      <th>level</th>\n",
       "      <th>Rating</th>\n",
       "      <th>content_duration</th>\n",
       "      <th>published_timestamp</th>\n",
       "      <th>subject</th>\n",
       "    </tr>\n",
       "  </thead>\n",
       "  <tbody>\n",
       "    <tr>\n",
       "      <th>0</th>\n",
       "      <td>41295.0</td>\n",
       "      <td>Learn HTML5 Programming From Scratch</td>\n",
       "      <td>https://www.udemy.com/learn-html5-programming-...</td>\n",
       "      <td>0.0</td>\n",
       "      <td>268923.0</td>\n",
       "      <td>8629.0</td>\n",
       "      <td>45.0</td>\n",
       "      <td>Beginner Level</td>\n",
       "      <td>0.82</td>\n",
       "      <td>10.500000</td>\n",
       "      <td>2013-02-14T07:03:41Z</td>\n",
       "      <td>Subject: Web Development</td>\n",
       "    </tr>\n",
       "    <tr>\n",
       "      <th>1</th>\n",
       "      <td>59014.0</td>\n",
       "      <td>Coding for Entrepreneurs Basic</td>\n",
       "      <td>https://www.udemy.com/coding-for-entrepreneurs...</td>\n",
       "      <td>0.0</td>\n",
       "      <td>161029.0</td>\n",
       "      <td>279.0</td>\n",
       "      <td>27.0</td>\n",
       "      <td>Expert Level</td>\n",
       "      <td>0.69</td>\n",
       "      <td>3.500000</td>\n",
       "      <td>2013-06-09T15:51:55Z</td>\n",
       "      <td>Subject: Web Development</td>\n",
       "    </tr>\n",
       "    <tr>\n",
       "      <th>2</th>\n",
       "      <td>625204.0</td>\n",
       "      <td>The Web Developer Bootcamp</td>\n",
       "      <td>https://www.udemy.com/the-web-developer-bootcamp/</td>\n",
       "      <td>200.0</td>\n",
       "      <td>121584.0</td>\n",
       "      <td>27445.0</td>\n",
       "      <td>342.0</td>\n",
       "      <td>Beginner Level</td>\n",
       "      <td>0.89</td>\n",
       "      <td>43.000000</td>\n",
       "      <td>2015-11-02T21:13:27Z</td>\n",
       "      <td>Subject: Web Development</td>\n",
       "    </tr>\n",
       "    <tr>\n",
       "      <th>3</th>\n",
       "      <td>173548.0</td>\n",
       "      <td>Build Your First Website in 1 Week with HTML5 ...</td>\n",
       "      <td>https://www.udemy.com/build-your-first-website...</td>\n",
       "      <td>0.0</td>\n",
       "      <td>120291.0</td>\n",
       "      <td>5924.0</td>\n",
       "      <td>30.0</td>\n",
       "      <td>All Levels</td>\n",
       "      <td>0.78</td>\n",
       "      <td>3.000000</td>\n",
       "      <td>2014-04-08T16:21:30Z</td>\n",
       "      <td>Subject: Web Development</td>\n",
       "    </tr>\n",
       "    <tr>\n",
       "      <th>4</th>\n",
       "      <td>764164.0</td>\n",
       "      <td>The Complete Web Developer Course 2.0</td>\n",
       "      <td>https://www.udemy.com/the-complete-web-develop...</td>\n",
       "      <td>200.0</td>\n",
       "      <td>114512.0</td>\n",
       "      <td>22412.0</td>\n",
       "      <td>304.0</td>\n",
       "      <td>Beginner Level</td>\n",
       "      <td>0.55</td>\n",
       "      <td>30.500000</td>\n",
       "      <td>2016-03-08T22:28:36Z</td>\n",
       "      <td>Subject: Web Development</td>\n",
       "    </tr>\n",
       "    <tr>\n",
       "      <th>...</th>\n",
       "      <td>...</td>\n",
       "      <td>...</td>\n",
       "      <td>...</td>\n",
       "      <td>...</td>\n",
       "      <td>...</td>\n",
       "      <td>...</td>\n",
       "      <td>...</td>\n",
       "      <td>...</td>\n",
       "      <td>...</td>\n",
       "      <td>...</td>\n",
       "      <td>...</td>\n",
       "      <td>...</td>\n",
       "    </tr>\n",
       "    <tr>\n",
       "      <th>3675</th>\n",
       "      <td>1216340.0</td>\n",
       "      <td>Learn to Play Sweet Child of Mine</td>\n",
       "      <td>https://www.udemy.com/learn-to-play-sweet-chil...</td>\n",
       "      <td>20.0</td>\n",
       "      <td>0.0</td>\n",
       "      <td>0.0</td>\n",
       "      <td>23.0</td>\n",
       "      <td>All Levels</td>\n",
       "      <td>0.31</td>\n",
       "      <td>1.500000</td>\n",
       "      <td>2017-06-30T17:33:29Z</td>\n",
       "      <td>Musical Instruments</td>\n",
       "    </tr>\n",
       "    <tr>\n",
       "      <th>3676</th>\n",
       "      <td>1026762.0</td>\n",
       "      <td>Coaching Course: Rhythm Instruction for Music ...</td>\n",
       "      <td>https://www.udemy.com/coaching-bundle-rhythm-i...</td>\n",
       "      <td>125.0</td>\n",
       "      <td>0.0</td>\n",
       "      <td>0.0</td>\n",
       "      <td>7.0</td>\n",
       "      <td>Beginner Level</td>\n",
       "      <td>0.06</td>\n",
       "      <td>0.633333</td>\n",
       "      <td>2017-03-10T17:06:46Z</td>\n",
       "      <td>Musical Instruments</td>\n",
       "    </tr>\n",
       "    <tr>\n",
       "      <th>3677</th>\n",
       "      <td>1223240.0</td>\n",
       "      <td>Learn Pirates of the Caribbean by Ear on the P...</td>\n",
       "      <td>https://www.udemy.com/learn-pirates-of-the-car...</td>\n",
       "      <td>20.0</td>\n",
       "      <td>0.0</td>\n",
       "      <td>0.0</td>\n",
       "      <td>6.0</td>\n",
       "      <td>All Levels</td>\n",
       "      <td>0.08</td>\n",
       "      <td>0.533333</td>\n",
       "      <td>2017-05-22T17:14:43Z</td>\n",
       "      <td>Musical Instruments</td>\n",
       "    </tr>\n",
       "    <tr>\n",
       "      <th>3678</th>\n",
       "      <td>1224186.0</td>\n",
       "      <td>Learn to Play Piano Like a Pro - Easy Piano Co...</td>\n",
       "      <td>https://www.udemy.com/learn-to-play-piano-like...</td>\n",
       "      <td>35.0</td>\n",
       "      <td>0.0</td>\n",
       "      <td>0.0</td>\n",
       "      <td>13.0</td>\n",
       "      <td>Beginner Level</td>\n",
       "      <td>0.78</td>\n",
       "      <td>0.516667</td>\n",
       "      <td>2017-05-30T00:19:02Z</td>\n",
       "      <td>Musical Instruments</td>\n",
       "    </tr>\n",
       "    <tr>\n",
       "      <th>3679</th>\n",
       "      <td>1234656.0</td>\n",
       "      <td>4 Week Rhythm Mastery</td>\n",
       "      <td>https://www.udemy.com/4-week-rhythm-mastery/</td>\n",
       "      <td>20.0</td>\n",
       "      <td>0.0</td>\n",
       "      <td>0.0</td>\n",
       "      <td>28.0</td>\n",
       "      <td>All Levels</td>\n",
       "      <td>0.01</td>\n",
       "      <td>2.500000</td>\n",
       "      <td>2017-07-05T16:07:44Z</td>\n",
       "      <td>Musical Instruments</td>\n",
       "    </tr>\n",
       "  </tbody>\n",
       "</table>\n",
       "<p>3680 rows × 12 columns</p>\n",
       "</div>"
      ],
      "text/plain": [
       "      course_id                                       course_title  \\\n",
       "0       41295.0               Learn HTML5 Programming From Scratch   \n",
       "1       59014.0                     Coding for Entrepreneurs Basic   \n",
       "2      625204.0                         The Web Developer Bootcamp   \n",
       "3      173548.0  Build Your First Website in 1 Week with HTML5 ...   \n",
       "4      764164.0              The Complete Web Developer Course 2.0   \n",
       "...         ...                                                ...   \n",
       "3675  1216340.0                  Learn to Play Sweet Child of Mine   \n",
       "3676  1026762.0  Coaching Course: Rhythm Instruction for Music ...   \n",
       "3677  1223240.0  Learn Pirates of the Caribbean by Ear on the P...   \n",
       "3678  1224186.0  Learn to Play Piano Like a Pro - Easy Piano Co...   \n",
       "3679  1234656.0                              4 Week Rhythm Mastery   \n",
       "\n",
       "                                                    url  price  \\\n",
       "0     https://www.udemy.com/learn-html5-programming-...    0.0   \n",
       "1     https://www.udemy.com/coding-for-entrepreneurs...    0.0   \n",
       "2     https://www.udemy.com/the-web-developer-bootcamp/  200.0   \n",
       "3     https://www.udemy.com/build-your-first-website...    0.0   \n",
       "4     https://www.udemy.com/the-complete-web-develop...  200.0   \n",
       "...                                                 ...    ...   \n",
       "3675  https://www.udemy.com/learn-to-play-sweet-chil...   20.0   \n",
       "3676  https://www.udemy.com/coaching-bundle-rhythm-i...  125.0   \n",
       "3677  https://www.udemy.com/learn-pirates-of-the-car...   20.0   \n",
       "3678  https://www.udemy.com/learn-to-play-piano-like...   35.0   \n",
       "3679       https://www.udemy.com/4-week-rhythm-mastery/   20.0   \n",
       "\n",
       "      num_subscribers  num_reviews  num_lectures           level  Rating  \\\n",
       "0            268923.0       8629.0          45.0  Beginner Level    0.82   \n",
       "1            161029.0        279.0          27.0    Expert Level    0.69   \n",
       "2            121584.0      27445.0         342.0  Beginner Level    0.89   \n",
       "3            120291.0       5924.0          30.0      All Levels    0.78   \n",
       "4            114512.0      22412.0         304.0  Beginner Level    0.55   \n",
       "...               ...          ...           ...             ...     ...   \n",
       "3675              0.0          0.0          23.0      All Levels    0.31   \n",
       "3676              0.0          0.0           7.0  Beginner Level    0.06   \n",
       "3677              0.0          0.0           6.0      All Levels    0.08   \n",
       "3678              0.0          0.0          13.0  Beginner Level    0.78   \n",
       "3679              0.0          0.0          28.0      All Levels    0.01   \n",
       "\n",
       "      content_duration   published_timestamp                   subject  \n",
       "0            10.500000  2013-02-14T07:03:41Z  Subject: Web Development  \n",
       "1             3.500000  2013-06-09T15:51:55Z  Subject: Web Development  \n",
       "2            43.000000  2015-11-02T21:13:27Z  Subject: Web Development  \n",
       "3             3.000000  2014-04-08T16:21:30Z  Subject: Web Development  \n",
       "4            30.500000  2016-03-08T22:28:36Z  Subject: Web Development  \n",
       "...                ...                   ...                       ...  \n",
       "3675          1.500000  2017-06-30T17:33:29Z       Musical Instruments  \n",
       "3676          0.633333  2017-03-10T17:06:46Z       Musical Instruments  \n",
       "3677          0.533333  2017-05-22T17:14:43Z       Musical Instruments  \n",
       "3678          0.516667  2017-05-30T00:19:02Z       Musical Instruments  \n",
       "3679          2.500000  2017-07-05T16:07:44Z       Musical Instruments  \n",
       "\n",
       "[3680 rows x 12 columns]"
      ]
     },
     "execution_count": 3,
     "metadata": {},
     "output_type": "execute_result"
    }
   ],
   "source": [
    "ra_df"
   ]
  },
  {
   "cell_type": "code",
   "execution_count": 58,
   "id": "f2d04bb4",
   "metadata": {},
   "outputs": [
    {
     "data": {
      "text/plain": [
       "All Levels            1925\n",
       "Beginner Level        1271\n",
       "Intermediate Level     422\n",
       "Expert Level            58\n",
       "Name: level, dtype: int64"
      ]
     },
     "execution_count": 58,
     "metadata": {},
     "output_type": "execute_result"
    }
   ],
   "source": [
    "ra_df['level'].value_counts()"
   ]
  },
  {
   "cell_type": "code",
   "execution_count": 59,
   "id": "e22d0a86",
   "metadata": {},
   "outputs": [],
   "source": [
    "lev = []\n",
    "for i in ra_df['level']:\n",
    "    if i == 'All Levels':\n",
    "        lev.append(1)\n",
    "    elif i == 'Beginner Level':\n",
    "        lev.append(2)\n",
    "    elif i == 'Intermediate Level':\n",
    "        lev.append(3)\n",
    "    elif i == 'Expert Level':\n",
    "        lev.append(4) \n",
    "    else:\n",
    "        lev.append(i)"
   ]
  },
  {
   "cell_type": "code",
   "execution_count": 60,
   "id": "7858d18a",
   "metadata": {},
   "outputs": [
    {
     "data": {
      "text/plain": [
       "3680"
      ]
     },
     "execution_count": 60,
     "metadata": {},
     "output_type": "execute_result"
    }
   ],
   "source": [
    "len(lev)"
   ]
  },
  {
   "cell_type": "code",
   "execution_count": 78,
   "id": "d4ff0d82",
   "metadata": {},
   "outputs": [],
   "source": [
    "# Seperating the data which effects the ratings of the courses.\n",
    "\n",
    "inde_variable = ra_df[['price','num_subscribers','num_reviews','num_lectures','content_duration']]\n",
    "de_variable = ra_df['Rating']"
   ]
  },
  {
   "cell_type": "code",
   "execution_count": 79,
   "id": "215c73bd",
   "metadata": {},
   "outputs": [
    {
     "data": {
      "text/plain": [
       "price               4\n",
       "num_subscribers     4\n",
       "num_reviews         4\n",
       "num_lectures        4\n",
       "content_duration    4\n",
       "dtype: int64"
      ]
     },
     "execution_count": 79,
     "metadata": {},
     "output_type": "execute_result"
    }
   ],
   "source": [
    "# Checking for null values\n",
    "\n",
    "inde_variable.isna().sum()"
   ]
  },
  {
   "cell_type": "code",
   "execution_count": 80,
   "id": "3ce0a0b2",
   "metadata": {},
   "outputs": [
    {
     "data": {
      "text/plain": [
       "4"
      ]
     },
     "execution_count": 80,
     "metadata": {},
     "output_type": "execute_result"
    }
   ],
   "source": [
    "de_variable.isna().sum()"
   ]
  },
  {
   "cell_type": "code",
   "execution_count": 81,
   "id": "5c4b1a15",
   "metadata": {},
   "outputs": [
    {
     "name": "stderr",
     "output_type": "stream",
     "text": [
      "C:\\Users\\Teja\\AppData\\Local\\Temp\\ipykernel_22232\\2965437983.py:3: SettingWithCopyWarning: \n",
      "A value is trying to be set on a copy of a slice from a DataFrame\n",
      "\n",
      "See the caveats in the documentation: https://pandas.pydata.org/pandas-docs/stable/user_guide/indexing.html#returning-a-view-versus-a-copy\n",
      "  inde_variable.dropna(inplace=True)\n"
     ]
    }
   ],
   "source": [
    "# Cleaning the data\n",
    "\n",
    "inde_variable.dropna(inplace=True)"
   ]
  },
  {
   "cell_type": "code",
   "execution_count": 82,
   "id": "e1c4d5e6",
   "metadata": {},
   "outputs": [
    {
     "data": {
      "text/plain": [
       "price               0\n",
       "num_subscribers     0\n",
       "num_reviews         0\n",
       "num_lectures        0\n",
       "content_duration    0\n",
       "dtype: int64"
      ]
     },
     "execution_count": 82,
     "metadata": {},
     "output_type": "execute_result"
    }
   ],
   "source": [
    "inde_variable.isna().sum()"
   ]
  },
  {
   "cell_type": "code",
   "execution_count": 83,
   "id": "f0b6e700",
   "metadata": {},
   "outputs": [],
   "source": [
    "# Cleaning the data\n",
    "\n",
    "de_variable.dropna(inplace=True)"
   ]
  },
  {
   "cell_type": "code",
   "execution_count": 84,
   "id": "5378ea58",
   "metadata": {},
   "outputs": [
    {
     "data": {
      "text/plain": [
       "0"
      ]
     },
     "execution_count": 84,
     "metadata": {},
     "output_type": "execute_result"
    }
   ],
   "source": [
    "de_variable.isna().sum()"
   ]
  },
  {
   "cell_type": "code",
   "execution_count": 11,
   "id": "110f115d",
   "metadata": {},
   "outputs": [
    {
     "data": {
      "text/plain": [
       "3676"
      ]
     },
     "execution_count": 11,
     "metadata": {},
     "output_type": "execute_result"
    }
   ],
   "source": [
    "len(de_variable)"
   ]
  },
  {
   "cell_type": "code",
   "execution_count": 12,
   "id": "6aabb38a",
   "metadata": {},
   "outputs": [
    {
     "data": {
      "text/plain": [
       "3676"
      ]
     },
     "execution_count": 12,
     "metadata": {},
     "output_type": "execute_result"
    }
   ],
   "source": [
    "len(inde_variable)"
   ]
  },
  {
   "cell_type": "code",
   "execution_count": 13,
   "id": "786abc1c",
   "metadata": {},
   "outputs": [],
   "source": [
    "# Importing Necessary Modules\n",
    "\n",
    "from sklearn.linear_model import LinearRegression\n",
    "from sklearn.model_selection import train_test_split\n",
    "from sklearn.metrics import mean_squared_error, r2_score"
   ]
  },
  {
   "cell_type": "code",
   "execution_count": 85,
   "id": "3d239e88",
   "metadata": {},
   "outputs": [],
   "source": [
    "# Splitting the data for training and testing.\n",
    "\n",
    "x_train,x_test,y_train,y_test = train_test_split(inde_variable,de_variable, test_size =0.2)"
   ]
  },
  {
   "cell_type": "code",
   "execution_count": 87,
   "id": "c501ffc9",
   "metadata": {},
   "outputs": [],
   "source": [
    "# Initializing the model.\n",
    "\n",
    "model =LinearRegression()"
   ]
  },
  {
   "cell_type": "code",
   "execution_count": 88,
   "id": "be034ca7",
   "metadata": {},
   "outputs": [
    {
     "data": {
      "text/plain": [
       "LinearRegression()"
      ]
     },
     "execution_count": 88,
     "metadata": {},
     "output_type": "execute_result"
    }
   ],
   "source": [
    "# Training the model with the cleaned and splitted data.\n",
    "\n",
    "model.fit(x_train, y_train)"
   ]
  },
  {
   "cell_type": "code",
   "execution_count": 89,
   "id": "40718b33",
   "metadata": {},
   "outputs": [],
   "source": [
    "# Prediction of data using the trained model and test input dat.\n",
    "\n",
    "y_pred = model.predict(x_test)"
   ]
  },
  {
   "cell_type": "code",
   "execution_count": 90,
   "id": "81c0d18f",
   "metadata": {},
   "outputs": [],
   "source": [
    "# Checking the error of the model using mean square error.\n",
    "\n",
    "M = mean_squared_error(y_test, y_pred)"
   ]
  },
  {
   "cell_type": "code",
   "execution_count": 91,
   "id": "3e5ec6d0",
   "metadata": {},
   "outputs": [],
   "source": [
    "# Checking the efficiency of the model using R2 score.\n",
    "\n",
    "r2 = r2_score(y_test, y_pred)"
   ]
  },
  {
   "cell_type": "code",
   "execution_count": 92,
   "id": "b630d349",
   "metadata": {},
   "outputs": [
    {
     "name": "stdout",
     "output_type": "stream",
     "text": [
      "Mean Square Error 0.10917180850182323\n",
      "R2 Score 0.003566365099758828\n"
     ]
    }
   ],
   "source": [
    "# Displaying the scores.  After trying all the varibles found that with the above ones taken getting the best scores possible.\n",
    "\n",
    "print('Mean Square Error',M)\n",
    "print('R2 Score',r2)"
   ]
  },
  {
   "cell_type": "code",
   "execution_count": null,
   "id": "ff07d2ff",
   "metadata": {},
   "outputs": [],
   "source": []
  }
 ],
 "metadata": {
  "kernelspec": {
   "display_name": "Python 3 (ipykernel)",
   "language": "python",
   "name": "python3"
  },
  "language_info": {
   "codemirror_mode": {
    "name": "ipython",
    "version": 3
   },
   "file_extension": ".py",
   "mimetype": "text/x-python",
   "name": "python",
   "nbconvert_exporter": "python",
   "pygments_lexer": "ipython3",
   "version": "3.9.13"
  }
 },
 "nbformat": 4,
 "nbformat_minor": 5
}
